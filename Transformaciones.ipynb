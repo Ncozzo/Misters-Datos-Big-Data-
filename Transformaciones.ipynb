{
  "nbformat": 4,
  "nbformat_minor": 0,
  "metadata": {
    "colab": {
      "provenance": []
    },
    "kernelspec": {
      "name": "python3",
      "display_name": "Python 3"
    },
    "language_info": {
      "name": "python"
    }
  },
  "cells": [
    {
      "cell_type": "markdown",
      "source": [
        "##Transformación de Fechas y horas"
      ],
      "metadata": {
        "id": "1pmu3mi6Dh0R"
      }
    },
    {
      "cell_type": "code",
      "source": [
        "#Importamos librerías\n",
        "from datetime import datetime, date, time, timedelta\n",
        "import datetime\n",
        "import pandas as pd\n",
        "import numpy as np"
      ],
      "metadata": {
        "id": "ul44qE9qDnGQ"
      },
      "execution_count": null,
      "outputs": []
    },
    {
      "cell_type": "code",
      "source": [
        "#AÑO\n",
        "ahora = datetime.datetime.now()\n",
        "print(\"La fecha y hora actual es: \", ahora)\n",
        "\n",
        "#Este año\n",
        "anio = ahora.year\n",
        "print(\"El año es: \", anio)\n",
        "\n",
        "#Año proximo\n",
        "año_proximo = anio + 1\n",
        "print(\"El año próximo es: \", año_proximo)"
      ],
      "metadata": {
        "id": "nepUFIbtGUBu"
      },
      "execution_count": null,
      "outputs": []
    },
    {
      "cell_type": "code",
      "source": [
        "#Mes\n",
        "\n",
        "#Mes actual\n",
        "mes_actual = ahora.month\n",
        "print(\"El mes actual es: \", mes_actual)\n",
        "\n",
        "#Mes próximo\n",
        "mes_proximo = mes_actual + 1\n",
        "print(\"El mes próximo es: \", mes_proximo)\n",
        "\n",
        "#Cambio el tipo de dato\n",
        "print(type(mes_proximo))\n",
        "print(type(str(mes_proximo)))"
      ],
      "metadata": {
        "id": "oo9D-S5JG3F7"
      },
      "execution_count": null,
      "outputs": []
    },
    {
      "cell_type": "code",
      "source": [
        "#DIA\n",
        "\n",
        "#Dia actual\n",
        "dia_actual = ahora.day\n",
        "print(\"El día actual es: \", dia_actual)\n",
        "\n",
        "#Dia próximo\n",
        "dia_proximo = dia_actual + 1\n",
        "print(\"El día próximo es: \", dia_proximo)"
      ],
      "metadata": {
        "id": "sO11Q6HtH4v0"
      },
      "execution_count": null,
      "outputs": []
    },
    {
      "cell_type": "code",
      "execution_count": null,
      "metadata": {
        "id": "6oFz-6IODYLW"
      },
      "outputs": [],
      "source": [
        "#HORA\n",
        "\n",
        "#Hora GMT\n",
        "ahora = datetime.datetime.now()\n",
        "print(\"La hora Greenwich Mean Time (GMT) es: \", ahora)\n",
        "\n",
        "#Hora Argentina (Le restamos 3 horas)\n",
        "hora_arg = ahora - timedelta(hours=3)\n",
        "print(\"La hora en Argentina es:\", hora_arg)\n"
      ]
    },
    {
      "cell_type": "code",
      "source": [
        "# Formatear la hora\n",
        "hora_formateada = ahora.strftime(\"%Y-%m-%d %H:%M:%S\")\n",
        "\n",
        "# Imprimir la hora formateada\n",
        "print(\"La hora actual es:\", hora_formateada)"
      ],
      "metadata": {
        "id": "rWMSLs3AFuPc"
      },
      "execution_count": null,
      "outputs": []
    },
    {
      "cell_type": "markdown",
      "source": [
        "##Transformación de Strings a enteros"
      ],
      "metadata": {
        "id": "qVAyoAIcJzQo"
      }
    },
    {
      "cell_type": "code",
      "source": [
        "#Cambio el tipo de dato, de string a enteros\n",
        "\n",
        "numero = \"15\"\n",
        "\n",
        "print(type(numero))\n",
        "\n",
        "print(f\"El numero ingresado es : {numero} y el tipo es:  {type(numero)} \")"
      ],
      "metadata": {
        "id": "XR6dWuCaJ38f"
      },
      "execution_count": null,
      "outputs": []
    },
    {
      "cell_type": "code",
      "source": [
        "#convertimos el dato de estring a enteros\n",
        "numero = int(numero)\n",
        "\n",
        "print(f\"El numero ingresado es : {numero} y el tipo es:  {type(numero)} \")\n"
      ],
      "metadata": {
        "id": "b7fzxXrSLLJn"
      },
      "execution_count": null,
      "outputs": []
    },
    {
      "cell_type": "markdown",
      "source": [
        "##Transformación de Strings a decimales"
      ],
      "metadata": {
        "id": "pDYWvtaPLv06"
      }
    },
    {
      "cell_type": "code",
      "source": [
        "#Cambio el tipo de dato, de string a enteros\n",
        "\n",
        "numero = \"10.1\"\n",
        "\n",
        "print(f\"El numero ingresado es : {numero} y el tipo es:  {type(numero)} \")"
      ],
      "metadata": {
        "id": "Yu3Hsd2bLx7R",
        "colab": {
          "base_uri": "https://localhost:8080/"
        },
        "outputId": "eef4e959-43f0-45df-9b7d-1bb8bed1e9a6"
      },
      "execution_count": 7,
      "outputs": [
        {
          "output_type": "stream",
          "name": "stdout",
          "text": [
            "El numero ingresado es : 10.1 y el tipo es:  <class 'str'> \n"
          ]
        }
      ]
    },
    {
      "cell_type": "code",
      "source": [
        "#convertimos el dato de estring a enteros\n",
        "numero = float(numero)\n",
        "\n",
        "print(f\"El numero ingresado es : {numero} y el tipo es:  {type(numero)} \")"
      ],
      "metadata": {
        "id": "8LHxTxfZL8eY",
        "colab": {
          "base_uri": "https://localhost:8080/"
        },
        "outputId": "8af57726-738e-46dc-a18e-adb42e60b978"
      },
      "execution_count": 8,
      "outputs": [
        {
          "output_type": "stream",
          "name": "stdout",
          "text": [
            "El numero ingresado es : 10.1 y el tipo es:  <class 'float'> \n"
          ]
        }
      ]
    },
    {
      "cell_type": "markdown",
      "source": [
        "##Transformación, join de datasets"
      ],
      "metadata": {
        "id": "6pCfMK9KMa1h"
      }
    },
    {
      "cell_type": "code",
      "source": [
        "\n",
        "# Notas de Matemática y Lengua\n",
        "df1 = pd.DataFrame({'Alumno': ['Alumno0', 'Alumno1', 'Alumno2'],\n",
        "                    'Matermática': ['5', '6', '7'],\n",
        "                    'Lengua': ['7', '7', '8']\n",
        "                    })\n",
        "\n",
        "# Notas de Historia y Geografía\n",
        "df2 = pd.DataFrame({'Alumno': ['Alumno0', 'Alumno2', 'Alumno3'],\n",
        "                    'Historia': ['4', '5', '4'],\n",
        "                    'Geografía': ['6', '7', '9']\n",
        "                    })\n",
        "\n",
        "# Mostramos los dataframes\n",
        "print(df1)\n",
        "print('           ')\n",
        "print(df2)\n",
        "\n"
      ],
      "metadata": {
        "id": "NfT7OdDtNg0d"
      },
      "execution_count": null,
      "outputs": []
    },
    {
      "cell_type": "code",
      "source": [
        "# Hacemos join de los dataframes y mostramos las notas\n",
        "\n",
        "merged_df = pd.merge(df1, df2, on='Alumno', how='right')\n",
        "print(merged_df)"
      ],
      "metadata": {
        "id": "5u_k4tr0SCgp"
      },
      "execution_count": null,
      "outputs": []
    },
    {
      "cell_type": "markdown",
      "source": [
        "##Substitución de datos faltante por un tipo de dato default"
      ],
      "metadata": {
        "id": "Rv1PhlReXRaZ"
      }
    },
    {
      "cell_type": "code",
      "source": [
        "#Reemplazamos nulos por ceros\n",
        "\n",
        "# Creando un DataFrame\n",
        "df = pd.DataFrame({'columna1': [1, 2, None, 4],\n",
        "                   'columna2': [5, None, None, 8]})\n",
        "\n",
        "print(df)\n"
      ],
      "metadata": {
        "id": "v68zUZ3yXVyL"
      },
      "execution_count": null,
      "outputs": []
    },
    {
      "cell_type": "code",
      "source": [
        "# Rellenando los valores nulos con 0\n",
        "\n",
        "df = df.fillna(0) #Podemos reemplazar el cero por el valor que necesitemos\n",
        "print(df)"
      ],
      "metadata": {
        "id": "5bYtTtaM7lYG"
      },
      "execution_count": null,
      "outputs": []
    },
    {
      "cell_type": "markdown",
      "source": [
        "##Filtrar datos que rompen reglas de negocio o porque no los necesitemos"
      ],
      "metadata": {
        "id": "92xDXtCoZbVe"
      }
    },
    {
      "cell_type": "code",
      "source": [
        "\n",
        "# Creamos un DataFrame de ejemplo\n",
        "data = {'producto': ['A', 'B', 'C', 'D'],\n",
        "        'precio': [5, 15, 8, 20]}\n",
        "df = pd.DataFrame(data)\n",
        "\n",
        "print(df)\n"
      ],
      "metadata": {
        "id": "o3m7TB6yZnXx"
      },
      "execution_count": null,
      "outputs": []
    },
    {
      "cell_type": "code",
      "source": [
        "# Filtrar los productos con precio menor a 10\n",
        "df_filtrado = df[df['precio'] < 10]\n",
        "print(df_filtrado)"
      ],
      "metadata": {
        "id": "gD87fIRUZrXz"
      },
      "execution_count": null,
      "outputs": []
    },
    {
      "cell_type": "markdown",
      "source": [
        "##Eliminar columnas que no son necesarias"
      ],
      "metadata": {
        "id": "JQssgWdSZ8CF"
      }
    },
    {
      "cell_type": "code",
      "source": [
        "\n",
        "# Creamos un DataFrame de ejemplo\n",
        "data = {'nombre': ['Ana', 'Pedro', 'María'],\n",
        "        'edad': [30, 25, 32],\n",
        "        'ciudad': ['Madrid', 'Barcelona', 'Sevilla'],\n",
        "        'correo': ['ana@example.com', 'pedro@example.com', 'maria@example.com'],\n",
        "        'telefono': [123456789, 987654321, 567891234]}\n",
        "df = pd.DataFrame(data)\n",
        "\n",
        "print(df)"
      ],
      "metadata": {
        "id": "DA6LSOxOZ_11"
      },
      "execution_count": null,
      "outputs": []
    },
    {
      "cell_type": "code",
      "source": [
        "# Eliminar las columnas 'correo' y 'telefono'\n",
        "columnas_a_eliminar = ['correo', 'telefono']\n",
        "\n",
        "#axis=1: Se refiere a las columnas.\n",
        "#inplace=True: modifica el DataFrame original en lugar de crear una copia y realizar los cambios en ella\n",
        "df.drop(columnas_a_eliminar, axis=1, inplace=True)\n",
        "\n",
        "print(df)"
      ],
      "metadata": {
        "id": "nTW98L5caFDr"
      },
      "execution_count": null,
      "outputs": []
    },
    {
      "cell_type": "markdown",
      "source": [
        "<H1>\n",
        "📝 Ejercicios de Transformación de Datos"
      ],
      "metadata": {
        "id": "UUdA5u4rlp8F"
      }
    },
    {
      "cell_type": "markdown",
      "source": [
        "1. Transformación de Fechas y Horas: Crea un script que calcule y muestre la fecha del próximo lunes.\n",
        "\n",
        "Pista: Usa la librería datetime."
      ],
      "metadata": {
        "id": "HmyWTTzflwJx"
      }
    },
    {
      "cell_type": "code",
      "source": [
        "#Ejercicio 1\n",
        "\n",
        "#Importamos librerías\n",
        "from datetime import datetime, date, time, timedelta\n",
        "import datetime\n",
        "import pandas as pd\n",
        "import numpy as np\n",
        "\n",
        "ahora = datetime.datetime.now()\n",
        "print(\"La fecha y hora actual es: \", ahora)\n",
        "\n",
        "# Calculate the number of days until the next Monday (Monday is weekday 0)\n",
        "days_until_next_monday = (0 - ahora.weekday()) % 7\n",
        "\n",
        "# If today is Monday (weekday 0), add 7 days to get the *next* Monday\n",
        "if days_until_next_monday == 0 and ahora.weekday() == 0:\n",
        "    days_until_next_monday = 7\n",
        "\n",
        "lunes = ahora + timedelta(days=days_until_next_monday)\n",
        "print(\"El próximo lunes es: \", lunes)"
      ],
      "metadata": {
        "id": "k2ZQeSAll0VX",
        "colab": {
          "base_uri": "https://localhost:8080/"
        },
        "outputId": "c9d53567-0286-4cfe-8a2e-0268cadbd0e3"
      },
      "execution_count": 15,
      "outputs": [
        {
          "output_type": "stream",
          "name": "stdout",
          "text": [
            "La fecha y hora actual es:  2025-09-25 19:52:10.012516\n",
            "El próximo lunes es:  2025-09-29 19:52:10.012516\n"
          ]
        }
      ]
    },
    {
      "cell_type": "markdown",
      "source": [
        "2. Transformación de Strings a Números: Convierte la cadena \"99.5\" a un tipo de dato flotante y luego a un tipo de dato entero. ¿Qué sucede con el valor decimal al hacer la conversión final?"
      ],
      "metadata": {
        "id": "6G84VJ_Zl2eS"
      }
    },
    {
      "cell_type": "code",
      "source": [
        "#Ejercicio 2\n",
        "\n",
        "numero = \"99.5\"\n",
        "\n",
        "print(f\"El numero ingresado es : {numero} y el tipo es:  {type(numero)} \")\n",
        "\n",
        "numero = float(numero)\n",
        "\n",
        "print(f\"El numero ingresado es : {numero} y el tipo es:  {type(numero)} \")\n",
        "\n",
        "numero = int(numero)\n",
        "\n",
        "print(f\"El numero ingresado es : {numero} y el tipo es:  {type(numero)} \")\n",
        "\n",
        "#el valor decimal se pierde al hacer la conversión final y que se convierte en un numero entero sin decimales\n"
      ],
      "metadata": {
        "id": "Ve4kXCmQl7Aa",
        "colab": {
          "base_uri": "https://localhost:8080/"
        },
        "outputId": "2a20f58d-b165-42d3-b381-56e1574e259f"
      },
      "execution_count": 13,
      "outputs": [
        {
          "output_type": "stream",
          "name": "stdout",
          "text": [
            "El numero ingresado es : 99.5 y el tipo es:  <class 'str'> \n",
            "El numero ingresado es : 99.5 y el tipo es:  <class 'float'> \n",
            "El numero ingresado es : 99 y el tipo es:  <class 'int'> \n"
          ]
        }
      ]
    },
    {
      "cell_type": "markdown",
      "source": [
        "3. Filtrado de Datos: Dado el siguiente DataFrame, filtra los datos para mostrar solo las ventas que superan los 500 y son del producto 'A'."
      ],
      "metadata": {
        "id": "bWdhgfjGl8qZ"
      }
    },
    {
      "cell_type": "code",
      "source": [
        "#Ejercicio 3\n",
        "data = {'producto': ['A', 'B', 'A', 'C'], 'ventas': [600, 450, 750, 300]}\n",
        "df = pd.DataFrame(data)\n",
        "print(df)\n",
        "\n",
        "# Filtrar los productos con ventas mayores a 500\n",
        "df_filtrado = df[(df['ventas'] > 500) & (df['producto'] == 'A')]\n",
        "print(df_filtrado)"
      ],
      "metadata": {
        "id": "inU6zRgQmEIv",
        "colab": {
          "base_uri": "https://localhost:8080/"
        },
        "outputId": "8274ce60-707f-4996-e5e6-35810d3faa69"
      },
      "execution_count": 21,
      "outputs": [
        {
          "output_type": "stream",
          "name": "stdout",
          "text": [
            "  producto  ventas\n",
            "0        A     600\n",
            "1        B     450\n",
            "2        A     750\n",
            "3        C     300\n",
            "  producto  ventas\n",
            "0        A     600\n",
            "2        A     750\n"
          ]
        }
      ]
    },
    {
      "cell_type": "markdown",
      "source": [
        "4. Agrupación y Agregación de Datos: Utiliza el DataFrame anterior y agrúpalo por 'producto' para calcular la suma total de 'ventas' por cada producto.\n",
        "\n"
      ],
      "metadata": {
        "id": "elxPCgGZmKj-"
      }
    },
    {
      "cell_type": "code",
      "source": [
        "#Ejercicio 4\n",
        "\n",
        "df_agrupado = df.groupby('producto')['ventas'].sum()\n",
        "print(df_agrupado)"
      ],
      "metadata": {
        "id": "5wYtme-7mSNc",
        "colab": {
          "base_uri": "https://localhost:8080/"
        },
        "outputId": "59106448-44ad-4e7d-9845-b03aad560d0b"
      },
      "execution_count": 22,
      "outputs": [
        {
          "output_type": "stream",
          "name": "stdout",
          "text": [
            "producto\n",
            "A    1350\n",
            "B     450\n",
            "C     300\n",
            "Name: ventas, dtype: int64\n"
          ]
        }
      ]
    },
    {
      "cell_type": "markdown",
      "source": [
        "5. Unión de DataFrames: Tienes dos DataFrames, uno con datos de empleados y otro con sus salarios. Únelos para que en un solo DataFrame aparezca el nombre del empleado y su salario."
      ],
      "metadata": {
        "id": "_4nEHPP0mT6l"
      }
    },
    {
      "cell_type": "code",
      "source": [
        "#Ejercicio 5\n",
        "df_empleados = pd.DataFrame({'id_empleado': [101, 102, 103], 'nombre': ['Juan', 'María', 'Pedro']})\n",
        "df_salarios = pd.DataFrame({'id_empleado': [102, 101, 103], 'salario': [50000, 60000, 75000]})\n",
        "\n",
        "df_unido = pd.merge(df_empleados, df_salarios, on='id_empleado')\n",
        "print(df_unido)"
      ],
      "metadata": {
        "id": "u2iBJOSJmcme",
        "colab": {
          "base_uri": "https://localhost:8080/"
        },
        "outputId": "d0565b03-ebd5-426a-88f4-d0e22a4d6659"
      },
      "execution_count": 23,
      "outputs": [
        {
          "output_type": "stream",
          "name": "stdout",
          "text": [
            "   id_empleado nombre  salario\n",
            "0          101   Juan    60000\n",
            "1          102  María    50000\n",
            "2          103  Pedro    75000\n"
          ]
        }
      ]
    },
    {
      "cell_type": "markdown",
      "source": [
        "6. Reemplazo de Valores: En el siguiente DataFrame, reemplaza todos los valores None en la columna 'edad' por el valor de la edad promedio de la columna."
      ],
      "metadata": {
        "id": "k_ETC6v6metc"
      }
    },
    {
      "cell_type": "code",
      "source": [
        "#Ejercicio 6\n",
        "\n",
        "data = {'nombre': ['Ana', 'Luis', 'Sofía'], 'edad': [25, np.nan, 30]}\n",
        "df = pd.DataFrame(data)\n",
        "\n",
        "edad_promedio = df['edad'].mean()\n",
        "\n",
        "#df.fillna({'edad':edad_promedio}, inplace=True)\n",
        "df['edad']=df['edad'].fillna(edad_promedio)\n",
        "\n",
        "#df['edad'].fillna(edad_promedio, inplace=True)\n",
        "\n",
        "print(df)\n"
      ],
      "metadata": {
        "id": "PKB0du2nmpS_",
        "colab": {
          "base_uri": "https://localhost:8080/"
        },
        "outputId": "45805d3f-d2a1-4a06-c830-30e837af6fbc"
      },
      "execution_count": 27,
      "outputs": [
        {
          "output_type": "stream",
          "name": "stdout",
          "text": [
            "  nombre  edad\n",
            "0    Ana  25.0\n",
            "1   Luis  27.5\n",
            "2  Sofía  30.0\n"
          ]
        }
      ]
    },
    {
      "cell_type": "markdown",
      "source": [
        "7. Eliminación de Filas: Dado el DataFrame anterior, elimina la fila que contiene el valor None"
      ],
      "metadata": {
        "id": "yBnVDl0lmvpQ"
      }
    },
    {
      "cell_type": "code",
      "source": [
        "#Ejercicio 7\n",
        "\n",
        "data = {'nombre': ['Ana', 'Luis', 'Sofía'], 'edad': [25, np.nan, 30]}\n",
        "df = pd.DataFrame(data)\n",
        "\n",
        "#df.dropna(inplace=True)\n",
        "df = df.dropna()\n",
        "\n",
        "print(df)"
      ],
      "metadata": {
        "id": "KBQpXaVVmzjs",
        "colab": {
          "base_uri": "https://localhost:8080/"
        },
        "outputId": "171ee277-0ca6-4dc4-c22f-2d57496652e0"
      },
      "execution_count": 28,
      "outputs": [
        {
          "output_type": "stream",
          "name": "stdout",
          "text": [
            "  nombre  edad\n",
            "0    Ana  25.0\n",
            "2  Sofía  30.0\n"
          ]
        }
      ]
    },
    {
      "cell_type": "markdown",
      "source": [
        "8. Transformación de Datos de una Columna: En el siguiente DataFrame, convierte todos los valores de la columna 'ciudad' a mayúsculas."
      ],
      "metadata": {
        "id": "TL_P3iP6m1SH"
      }
    },
    {
      "cell_type": "code",
      "source": [
        "#Ejercicio 8\n",
        "df_ciudades = pd.DataFrame({'ciudad': ['madrid', 'barcelona', 'sevilla']})\n",
        "\n",
        "df_ciudades['ciudad'] = df_ciudades['ciudad'].str.upper()\n",
        "\n",
        "print(df_ciudades)"
      ],
      "metadata": {
        "id": "Q1dVLbrFneXb",
        "colab": {
          "base_uri": "https://localhost:8080/"
        },
        "outputId": "c5ae0958-be35-46dc-8d70-805eadd0fe9e"
      },
      "execution_count": 29,
      "outputs": [
        {
          "output_type": "stream",
          "name": "stdout",
          "text": [
            "      ciudad\n",
            "0     MADRID\n",
            "1  BARCELONA\n",
            "2    SEVILLA\n"
          ]
        }
      ]
    },
    {
      "cell_type": "markdown",
      "source": [
        "9. Creación de una Nueva Columna: Usando el DataFrame de df_ciudades, crea una nueva columna llamada 'país' y asigna el valor 'España' a todas las filas."
      ],
      "metadata": {
        "id": "rxksaydwnvho"
      }
    },
    {
      "cell_type": "code",
      "source": [
        "#Ejercicio 9\n",
        "df_ciudades['pais'] = 'España'\n",
        "\n",
        "print(df_ciudades)"
      ],
      "metadata": {
        "id": "bL19LKPhnz_G",
        "colab": {
          "base_uri": "https://localhost:8080/"
        },
        "outputId": "fd866302-03d8-4962-b17c-61ea62000d93"
      },
      "execution_count": 30,
      "outputs": [
        {
          "output_type": "stream",
          "name": "stdout",
          "text": [
            "      ciudad    pais\n",
            "0     MADRID  España\n",
            "1  BARCELONA  España\n",
            "2    SEVILLA  España\n"
          ]
        }
      ]
    },
    {
      "cell_type": "markdown",
      "source": [
        "10. Eliminar Duplicados: En el siguiente DataFrame, elimina las filas duplicadas."
      ],
      "metadata": {
        "id": "1i0vq2sMoDIb"
      }
    },
    {
      "cell_type": "code",
      "source": [
        "#Ejercicio 10\n",
        "df_duplicados = pd.DataFrame({'A': [1, 2, 2, 3], 'B': ['x', 'y', 'y', 'z']})\n",
        "\n",
        "df_sin_duplicados = df_duplicados.drop_duplicates()\n",
        "\n",
        "print(df_sin_duplicados)"
      ],
      "metadata": {
        "id": "_4wfxYaqoE8b",
        "colab": {
          "base_uri": "https://localhost:8080/"
        },
        "outputId": "baddd232-40c5-46b2-9028-bbc9798c6390"
      },
      "execution_count": 31,
      "outputs": [
        {
          "output_type": "stream",
          "name": "stdout",
          "text": [
            "   A  B\n",
            "0  1  x\n",
            "1  2  y\n",
            "3  3  z\n"
          ]
        }
      ]
    }
  ]
}